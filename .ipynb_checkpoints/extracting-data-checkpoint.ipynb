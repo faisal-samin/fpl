{
 "cells": [
  {
   "cell_type": "markdown",
   "metadata": {},
   "source": [
    "There are two APIs that are used to extract fantasy football data:\n",
    "* https://fantasy.premierleague.com/drf/elements/: Contains player IDs, names and other general details\n",
    "* https://fantasy.premierleague.com/drf/element-summary/{id}: contains detailed stats on footballers"
   ]
  },
  {
   "cell_type": "markdown",
   "metadata": {},
   "source": [
    "# Building blocks"
   ]
  },
  {
   "cell_type": "markdown",
   "metadata": {},
   "source": [
    "## Exploring API with general details"
   ]
  },
  {
   "cell_type": "markdown",
   "metadata": {},
   "source": [
    "Import required modules"
   ]
  },
  {
   "cell_type": "code",
   "execution_count": null,
   "metadata": {
    "collapsed": true
   },
   "outputs": [],
   "source": [
    "#import modules\n",
    "import pandas as pd\n",
    "import numpy as np\n",
    "import requests\n",
    "from time import sleep"
   ]
  },
  {
   "cell_type": "code",
   "execution_count": null,
   "metadata": {
    "collapsed": true
   },
   "outputs": [],
   "source": [
    "# general details of players\n",
    "main_api = requests.get('https://fantasy.premierleague.com/drf/elements/').json()"
   ]
  },
  {
   "cell_type": "code",
   "execution_count": null,
   "metadata": {
    "scrolled": true
   },
   "outputs": [],
   "source": [
    "main_api[1] # Cech - dictionary of stats"
   ]
  },
  {
   "cell_type": "code",
   "execution_count": null,
   "metadata": {},
   "outputs": [],
   "source": [
    "main_api[3]['element_type'] # Kosc (element type is 2)"
   ]
  },
  {
   "cell_type": "code",
   "execution_count": null,
   "metadata": {},
   "outputs": [],
   "source": [
    "main_api[14]['element_type'] # Ramsey (element type is 3)"
   ]
  },
  {
   "cell_type": "code",
   "execution_count": null,
   "metadata": {
    "scrolled": true
   },
   "outputs": [],
   "source": [
    "main_api[20]['element_type'] # Welbeck (element type is 4)"
   ]
  },
  {
   "cell_type": "markdown",
   "metadata": {},
   "source": [
    "From the above, it appears that **element_type** is position."
   ]
  },
  {
   "cell_type": "markdown",
   "metadata": {},
   "source": [
    "From the general API, the following are useful:\n",
    "* id: unique id that will be needed to pull out gameweek level stats\n",
    "* first_name and web_name (surname)\n",
    "* element_type: position\n",
    "* team: numeric id that needs to be mapped to team names"
   ]
  },
  {
   "cell_type": "code",
   "execution_count": null,
   "metadata": {},
   "outputs": [],
   "source": [
    "# collect key details in a list of dictionaries\n",
    "fpl_data = []\n",
    "for n in range(len(main_api)):\n",
    "    player_details = main_api[n] # store dictionary for selected player\n",
    "    player = {'fpl_id': player_details['id'], \n",
    "              'full_name': player_details['first_name'] + ' ' + player_details['second_name'], \n",
    "              'position': player_details['element_type'], \n",
    "              'team': player_details['team']}\n",
    "    fpl_data.append(player)"
   ]
  },
  {
   "cell_type": "code",
   "execution_count": null,
   "metadata": {
    "collapsed": true
   },
   "outputs": [],
   "source": [
    "fpl_data"
   ]
  },
  {
   "cell_type": "markdown",
   "metadata": {},
   "source": [
    "## Exploring API with detailed (gameweek-level) stats"
   ]
  },
  {
   "cell_type": "markdown",
   "metadata": {},
   "source": [
    "We now call the second API to extend our dataset with gameweek level stats."
   ]
  },
  {
   "cell_type": "markdown",
   "metadata": {},
   "source": [
    "We define a function to return details for the given player id."
   ]
  },
  {
   "cell_type": "code",
   "execution_count": null,
   "metadata": {
    "collapsed": true
   },
   "outputs": [],
   "source": [
    "def player_details(i):\n",
    "    return requests.get('https://fantasy.premierleague.com/drf/element-summary/'+str(i)).json()"
   ]
  },
  {
   "cell_type": "markdown",
   "metadata": {},
   "source": [
    "Calling the function on a random player from the fpl_data list."
   ]
  },
  {
   "cell_type": "code",
   "execution_count": null,
   "metadata": {},
   "outputs": [],
   "source": [
    "kane = player_details(394) # Harry Kane's details\n",
    "kane"
   ]
  },
  {
   "cell_type": "markdown",
   "metadata": {},
   "source": [
    "There is a lot of detail here and levels of json that we need to navigate through. To aid with this, we use the .keys() method to see what levels are available at each stage of the json, and then call the required index. The goal is to get to the game-week level data."
   ]
  },
  {
   "cell_type": "code",
   "execution_count": null,
   "metadata": {},
   "outputs": [],
   "source": [
    "kane.keys()"
   ]
  },
  {
   "cell_type": "code",
   "execution_count": null,
   "metadata": {},
   "outputs": [],
   "source": [
    "kane['history'] # gameweek level details"
   ]
  },
  {
   "cell_type": "code",
   "execution_count": null,
   "metadata": {},
   "outputs": [],
   "source": [
    "kane['history'][18].items() # gw 1 details"
   ]
  },
  {
   "cell_type": "markdown",
   "metadata": {},
   "source": [
    "We can append these details to our existing list. Let's test this for Harry Kane."
   ]
  },
  {
   "cell_type": "code",
   "execution_count": null,
   "metadata": {
    "scrolled": true
   },
   "outputs": [],
   "source": [
    "fpl_data_kane = fpl_data[510] # whilst Kane's id is 394, some ids are skipped in the fpl_data list\n",
    "fpl_data_kane"
   ]
  },
  {
   "cell_type": "code",
   "execution_count": null,
   "metadata": {},
   "outputs": [],
   "source": [
    "kane_details = []\n",
    "for week in range(28):\n",
    "    kane_details.append(fpl_data_kane) # first row with general details, repeated for each row\n",
    "    kane_details[-1] = {**kane_details[-1], **kane['history'][week]} # merge two dictionaries"
   ]
  },
  {
   "cell_type": "markdown",
   "metadata": {},
   "source": [
    "We can now build our master function..."
   ]
  },
  {
   "cell_type": "markdown",
   "metadata": {},
   "source": [
    "# Mains functions to build dataset"
   ]
  },
  {
   "cell_type": "code",
   "execution_count": null,
   "metadata": {
    "collapsed": true
   },
   "outputs": [],
   "source": [
    "# import modules\n",
    "import pandas as pd\n",
    "import numpy as np\n",
    "import requests\n",
    "from time import sleep"
   ]
  },
  {
   "cell_type": "code",
   "execution_count": null,
   "metadata": {
    "collapsed": true
   },
   "outputs": [],
   "source": [
    "# variables for each api\n",
    "# main api for all players\n",
    "main_api = requests.get('https://fantasy.premierleague.com/drf/elements/').json()\n",
    "# api with detailed stats for given player id\n",
    "def detailed_api(i):\n",
    "    return requests.get('https://fantasy.premierleague.com/drf/element-summary/'+str(i)).json()"
   ]
  },
  {
   "cell_type": "code",
   "execution_count": null,
   "metadata": {
    "collapsed": true
   },
   "outputs": [],
   "source": [
    "# collect key details from main api\n",
    "main_api = requests.get('https://fantasy.premierleague.com/drf/elements/').json()\n",
    "fpl_data_ids = []\n",
    "for n in range(len(main_api)):\n",
    "    player_url = main_api[n] # store dictionary for selected player\n",
    "    player = {'fpl_id': player_url['id'], \n",
    "              'full_name': player_url['first_name'] + ' ' + player_url['second_name'], \n",
    "              'position': player_url['element_type'], \n",
    "              'team': player_url['team']}\n",
    "    fpl_data_ids.append(player)"
   ]
  },
  {
   "cell_type": "code",
   "execution_count": null,
   "metadata": {
    "collapsed": true
   },
   "outputs": [],
   "source": [
    "# save variables \n",
    "fpl_data = [] # empty list that data will be added to\n",
    "latest_gw = 28 # update this as required\n",
    "\n",
    "for player in fpl_data_ids: # store each dictionary within the list as 'player'\n",
    "    id = player['fpl_id'] # get their id\n",
    "    player_url = detailed_api(id) # save url for their detailed stats\n",
    "    for week in range(latest_gw): # loop through all available gameweeks\n",
    "        # generate row of data at each iteration of this loop\n",
    "        \n",
    "        # Try for cases where players do not have stats for a particular week (i.e. jan transfers)\n",
    "        try:\n",
    "            # first row with general details, repeated for each row\n",
    "            fpl_data.append(player)\n",
    "\n",
    "            # more details for each gameweek\n",
    "            # gameweek level data is captured in the last row (which was just created)\n",
    "            fpl_data[-1] = {**fpl_data[-1], **player_url['history'][week]} # merge two dictionaries\n",
    "        except:\n",
    "            continue            \n",
    "    print(player['full_name'] + ' done..')\n",
    "    sleep(0.1) # to not overload api "
   ]
  },
  {
   "cell_type": "code",
   "execution_count": null,
   "metadata": {
    "collapsed": true
   },
   "outputs": [],
   "source": [
    "fpl_data_df = pd.DataFrame(fpl_data)"
   ]
  },
  {
   "cell_type": "code",
   "execution_count": 303,
   "metadata": {
    "collapsed": true
   },
   "outputs": [],
   "source": [
    "fpl_data_df.to_csv('fpldata.csv',encoding='utf-8')"
   ]
  },
  {
   "cell_type": "code",
   "execution_count": 308,
   "metadata": {},
   "outputs": [],
   "source": [
    "fpl_data_df.to_excel('fpldata.xls') # takes longer but doesn't garble characters"
   ]
  }
 ],
 "metadata": {
  "kernelspec": {
   "display_name": "Python 3",
   "language": "python",
   "name": "python3"
  },
  "language_info": {
   "codemirror_mode": {
    "name": "ipython",
    "version": 3
   },
   "file_extension": ".py",
   "mimetype": "text/x-python",
   "name": "python",
   "nbconvert_exporter": "python",
   "pygments_lexer": "ipython3",
   "version": "3.6.4"
  },
  "toc": {
   "nav_menu": {},
   "number_sections": true,
   "sideBar": true,
   "skip_h1_title": false,
   "title_cell": "Table of Contents",
   "title_sidebar": "Contents",
   "toc_cell": false,
   "toc_position": {},
   "toc_section_display": true,
   "toc_window_display": false
  }
 },
 "nbformat": 4,
 "nbformat_minor": 2
}
